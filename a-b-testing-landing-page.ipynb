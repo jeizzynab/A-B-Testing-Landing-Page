{
 "cells": [
  {
   "cell_type": "code",
   "execution_count": 1,
   "id": "7c8b9dfd",
   "metadata": {
    "_cell_guid": "b1076dfc-b9ad-4769-8c92-a6c4dae69d19",
    "_uuid": "8f2839f25d086af736a60e9eeb907d3b93b6e0e5",
    "execution": {
     "iopub.execute_input": "2022-10-19T02:40:07.546538Z",
     "iopub.status.busy": "2022-10-19T02:40:07.546096Z",
     "iopub.status.idle": "2022-10-19T02:40:07.564105Z",
     "shell.execute_reply": "2022-10-19T02:40:07.562963Z"
    },
    "papermill": {
     "duration": 0.031286,
     "end_time": "2022-10-19T02:40:07.568915",
     "exception": false,
     "start_time": "2022-10-19T02:40:07.537629",
     "status": "completed"
    },
    "tags": []
   },
   "outputs": [
    {
     "name": "stdout",
     "output_type": "stream",
     "text": [
      "/kaggle/input/ab-testing/ab_data.csv\n"
     ]
    }
   ],
   "source": [
    "# This Python 3 environment comes with many helpful analytics libraries installed\n",
    "# It is defined by the kaggle/python Docker image: https://github.com/kaggle/docker-python\n",
    "# For example, here's several helpful packages to load\n",
    "\n",
    "import numpy as np # linear algebra\n",
    "import pandas as pd # data processing, CSV file I/O (e.g. pd.read_csv)\n",
    "\n",
    "# Input data files are available in the read-only \"../input/\" directory\n",
    "# For example, running this (by clicking run or pressing Shift+Enter) will list all files under the input directory\n",
    "\n",
    "import os\n",
    "for dirname, _, filenames in os.walk('/kaggle/input'):\n",
    "    for filename in filenames:\n",
    "        print(os.path.join(dirname, filename))\n",
    "\n",
    "# You can write up to 20GB to the current directory (/kaggle/working/) that gets preserved as output when you create a version using \"Save & Run All\" \n",
    "# You can also write temporary files to /kaggle/temp/, but they won't be saved outside of the current session"
   ]
  },
  {
   "cell_type": "code",
   "execution_count": 2,
   "id": "f13a9bbf",
   "metadata": {
    "execution": {
     "iopub.execute_input": "2022-10-19T02:40:07.582596Z",
     "iopub.status.busy": "2022-10-19T02:40:07.581819Z",
     "iopub.status.idle": "2022-10-19T02:40:08.957538Z",
     "shell.execute_reply": "2022-10-19T02:40:08.956259Z"
    },
    "papermill": {
     "duration": 1.385897,
     "end_time": "2022-10-19T02:40:08.960467",
     "exception": false,
     "start_time": "2022-10-19T02:40:07.574570",
     "status": "completed"
    },
    "tags": []
   },
   "outputs": [],
   "source": [
    "# Packages imports\n",
    "import numpy as np\n",
    "import pandas as pd\n",
    "import scipy.stats as stats\n",
    "import statsmodels.stats.api as sms\n",
    "import matplotlib as mpl\n",
    "import matplotlib.pyplot as plt\n",
    "import seaborn as sns\n",
    "from math import ceil\n",
    "\n",
    "%matplotlib inline"
   ]
  },
  {
   "cell_type": "markdown",
   "id": "30f25c5a",
   "metadata": {
    "papermill": {
     "duration": 0.004524,
     "end_time": "2022-10-19T02:40:08.970167",
     "exception": false,
     "start_time": "2022-10-19T02:40:08.965643",
     "status": "completed"
    },
    "tags": []
   },
   "source": [
    "## Preparing the Data"
   ]
  },
  {
   "cell_type": "code",
   "execution_count": 3,
   "id": "645470a0",
   "metadata": {
    "execution": {
     "iopub.execute_input": "2022-10-19T02:40:08.981324Z",
     "iopub.status.busy": "2022-10-19T02:40:08.980872Z",
     "iopub.status.idle": "2022-10-19T02:40:09.566381Z",
     "shell.execute_reply": "2022-10-19T02:40:09.564963Z"
    },
    "papermill": {
     "duration": 0.594169,
     "end_time": "2022-10-19T02:40:09.569050",
     "exception": false,
     "start_time": "2022-10-19T02:40:08.974881",
     "status": "completed"
    },
    "tags": []
   },
   "outputs": [],
   "source": [
    "df = pd.read_csv('../input/ab-testing/ab_data.csv')"
   ]
  },
  {
   "cell_type": "code",
   "execution_count": 4,
   "id": "97d7ede4",
   "metadata": {
    "execution": {
     "iopub.execute_input": "2022-10-19T02:40:09.581452Z",
     "iopub.status.busy": "2022-10-19T02:40:09.581062Z",
     "iopub.status.idle": "2022-10-19T02:40:09.591068Z",
     "shell.execute_reply": "2022-10-19T02:40:09.589795Z"
    },
    "papermill": {
     "duration": 0.019085,
     "end_time": "2022-10-19T02:40:09.593546",
     "exception": false,
     "start_time": "2022-10-19T02:40:09.574461",
     "status": "completed"
    },
    "tags": []
   },
   "outputs": [
    {
     "data": {
      "text/plain": [
       "(294478, 5)"
      ]
     },
     "execution_count": 4,
     "metadata": {},
     "output_type": "execute_result"
    }
   ],
   "source": [
    "df.shape"
   ]
  },
  {
   "cell_type": "code",
   "execution_count": 5,
   "id": "1b0103f2",
   "metadata": {
    "execution": {
     "iopub.execute_input": "2022-10-19T02:40:09.605231Z",
     "iopub.status.busy": "2022-10-19T02:40:09.604807Z",
     "iopub.status.idle": "2022-10-19T02:40:09.675665Z",
     "shell.execute_reply": "2022-10-19T02:40:09.674349Z"
    },
    "papermill": {
     "duration": 0.079915,
     "end_time": "2022-10-19T02:40:09.678511",
     "exception": false,
     "start_time": "2022-10-19T02:40:09.598596",
     "status": "completed"
    },
    "tags": []
   },
   "outputs": [
    {
     "name": "stdout",
     "output_type": "stream",
     "text": [
      "<class 'pandas.core.frame.DataFrame'>\n",
      "RangeIndex: 294478 entries, 0 to 294477\n",
      "Data columns (total 5 columns):\n",
      " #   Column        Non-Null Count   Dtype \n",
      "---  ------        --------------   ----- \n",
      " 0   user_id       294478 non-null  int64 \n",
      " 1   timestamp     294478 non-null  object\n",
      " 2   group         294478 non-null  object\n",
      " 3   landing_page  294478 non-null  object\n",
      " 4   converted     294478 non-null  int64 \n",
      "dtypes: int64(2), object(3)\n",
      "memory usage: 11.2+ MB\n"
     ]
    }
   ],
   "source": [
    "df.info()"
   ]
  },
  {
   "cell_type": "code",
   "execution_count": 6,
   "id": "7b2a53f0",
   "metadata": {
    "execution": {
     "iopub.execute_input": "2022-10-19T02:40:09.691049Z",
     "iopub.status.busy": "2022-10-19T02:40:09.690512Z",
     "iopub.status.idle": "2022-10-19T02:40:09.708464Z",
     "shell.execute_reply": "2022-10-19T02:40:09.707262Z"
    },
    "papermill": {
     "duration": 0.027376,
     "end_time": "2022-10-19T02:40:09.711285",
     "exception": false,
     "start_time": "2022-10-19T02:40:09.683909",
     "status": "completed"
    },
    "tags": []
   },
   "outputs": [
    {
     "data": {
      "text/html": [
       "<div>\n",
       "<style scoped>\n",
       "    .dataframe tbody tr th:only-of-type {\n",
       "        vertical-align: middle;\n",
       "    }\n",
       "\n",
       "    .dataframe tbody tr th {\n",
       "        vertical-align: top;\n",
       "    }\n",
       "\n",
       "    .dataframe thead th {\n",
       "        text-align: right;\n",
       "    }\n",
       "</style>\n",
       "<table border=\"1\" class=\"dataframe\">\n",
       "  <thead>\n",
       "    <tr style=\"text-align: right;\">\n",
       "      <th></th>\n",
       "      <th>user_id</th>\n",
       "      <th>timestamp</th>\n",
       "      <th>group</th>\n",
       "      <th>landing_page</th>\n",
       "      <th>converted</th>\n",
       "    </tr>\n",
       "  </thead>\n",
       "  <tbody>\n",
       "    <tr>\n",
       "      <th>0</th>\n",
       "      <td>851104</td>\n",
       "      <td>2017-01-21 22:11:48.556739</td>\n",
       "      <td>control</td>\n",
       "      <td>old_page</td>\n",
       "      <td>0</td>\n",
       "    </tr>\n",
       "    <tr>\n",
       "      <th>1</th>\n",
       "      <td>804228</td>\n",
       "      <td>2017-01-12 08:01:45.159739</td>\n",
       "      <td>control</td>\n",
       "      <td>old_page</td>\n",
       "      <td>0</td>\n",
       "    </tr>\n",
       "    <tr>\n",
       "      <th>2</th>\n",
       "      <td>661590</td>\n",
       "      <td>2017-01-11 16:55:06.154213</td>\n",
       "      <td>treatment</td>\n",
       "      <td>new_page</td>\n",
       "      <td>0</td>\n",
       "    </tr>\n",
       "    <tr>\n",
       "      <th>3</th>\n",
       "      <td>853541</td>\n",
       "      <td>2017-01-08 18:28:03.143765</td>\n",
       "      <td>treatment</td>\n",
       "      <td>new_page</td>\n",
       "      <td>0</td>\n",
       "    </tr>\n",
       "    <tr>\n",
       "      <th>4</th>\n",
       "      <td>864975</td>\n",
       "      <td>2017-01-21 01:52:26.210827</td>\n",
       "      <td>control</td>\n",
       "      <td>old_page</td>\n",
       "      <td>1</td>\n",
       "    </tr>\n",
       "  </tbody>\n",
       "</table>\n",
       "</div>"
      ],
      "text/plain": [
       "   user_id                   timestamp      group landing_page  converted\n",
       "0   851104  2017-01-21 22:11:48.556739    control     old_page          0\n",
       "1   804228  2017-01-12 08:01:45.159739    control     old_page          0\n",
       "2   661590  2017-01-11 16:55:06.154213  treatment     new_page          0\n",
       "3   853541  2017-01-08 18:28:03.143765  treatment     new_page          0\n",
       "4   864975  2017-01-21 01:52:26.210827    control     old_page          1"
      ]
     },
     "execution_count": 6,
     "metadata": {},
     "output_type": "execute_result"
    }
   ],
   "source": [
    "df.head()"
   ]
  },
  {
   "cell_type": "code",
   "execution_count": 7,
   "id": "b39b6937",
   "metadata": {
    "execution": {
     "iopub.execute_input": "2022-10-19T02:40:09.724274Z",
     "iopub.status.busy": "2022-10-19T02:40:09.723821Z",
     "iopub.status.idle": "2022-10-19T02:40:09.853176Z",
     "shell.execute_reply": "2022-10-19T02:40:09.852221Z"
    },
    "papermill": {
     "duration": 0.138621,
     "end_time": "2022-10-19T02:40:09.855544",
     "exception": false,
     "start_time": "2022-10-19T02:40:09.716923",
     "status": "completed"
    },
    "tags": []
   },
   "outputs": [
    {
     "data": {
      "text/html": [
       "<div>\n",
       "<style scoped>\n",
       "    .dataframe tbody tr th:only-of-type {\n",
       "        vertical-align: middle;\n",
       "    }\n",
       "\n",
       "    .dataframe tbody tr th {\n",
       "        vertical-align: top;\n",
       "    }\n",
       "\n",
       "    .dataframe thead th {\n",
       "        text-align: right;\n",
       "    }\n",
       "</style>\n",
       "<table border=\"1\" class=\"dataframe\">\n",
       "  <thead>\n",
       "    <tr style=\"text-align: right;\">\n",
       "      <th>landing_page</th>\n",
       "      <th>new_page</th>\n",
       "      <th>old_page</th>\n",
       "    </tr>\n",
       "    <tr>\n",
       "      <th>group</th>\n",
       "      <th></th>\n",
       "      <th></th>\n",
       "    </tr>\n",
       "  </thead>\n",
       "  <tbody>\n",
       "    <tr>\n",
       "      <th>control</th>\n",
       "      <td>1928</td>\n",
       "      <td>145274</td>\n",
       "    </tr>\n",
       "    <tr>\n",
       "      <th>treatment</th>\n",
       "      <td>145311</td>\n",
       "      <td>1965</td>\n",
       "    </tr>\n",
       "  </tbody>\n",
       "</table>\n",
       "</div>"
      ],
      "text/plain": [
       "landing_page  new_page  old_page\n",
       "group                           \n",
       "control           1928    145274\n",
       "treatment       145311      1965"
      ]
     },
     "execution_count": 7,
     "metadata": {},
     "output_type": "execute_result"
    }
   ],
   "source": [
    "pd.crosstab(df['group'], df['landing_page'])"
   ]
  },
  {
   "cell_type": "code",
   "execution_count": 8,
   "id": "18774ce0",
   "metadata": {
    "execution": {
     "iopub.execute_input": "2022-10-19T02:40:09.869034Z",
     "iopub.status.busy": "2022-10-19T02:40:09.868596Z",
     "iopub.status.idle": "2022-10-19T02:40:09.912222Z",
     "shell.execute_reply": "2022-10-19T02:40:09.911029Z"
    },
    "papermill": {
     "duration": 0.053576,
     "end_time": "2022-10-19T02:40:09.915009",
     "exception": false,
     "start_time": "2022-10-19T02:40:09.861433",
     "status": "completed"
    },
    "tags": []
   },
   "outputs": [
    {
     "data": {
      "text/plain": [
       "3894"
      ]
     },
     "execution_count": 8,
     "metadata": {},
     "output_type": "execute_result"
    }
   ],
   "source": [
    "# Finding the number of duplicates user\n",
    "user_duplicate = df['user_id'].value_counts()\n",
    "users_multi = user_duplicate[user_duplicate > 1].count()\n",
    "users_multi"
   ]
  },
  {
   "cell_type": "code",
   "execution_count": 9,
   "id": "388ec7d7",
   "metadata": {
    "execution": {
     "iopub.execute_input": "2022-10-19T02:40:09.929315Z",
     "iopub.status.busy": "2022-10-19T02:40:09.928877Z",
     "iopub.status.idle": "2022-10-19T02:40:09.964584Z",
     "shell.execute_reply": "2022-10-19T02:40:09.963465Z"
    },
    "papermill": {
     "duration": 0.046228,
     "end_time": "2022-10-19T02:40:09.967444",
     "exception": false,
     "start_time": "2022-10-19T02:40:09.921216",
     "status": "completed"
    },
    "tags": []
   },
   "outputs": [],
   "source": [
    "# Removing the duplicates user\n",
    "to_drop = user_duplicate[user_duplicate > 1].index\n",
    "df = df[~df['user_id'].isin(to_drop)]"
   ]
  },
  {
   "cell_type": "markdown",
   "id": "7d61907b",
   "metadata": {
    "papermill": {
     "duration": 0.005091,
     "end_time": "2022-10-19T02:40:09.978163",
     "exception": false,
     "start_time": "2022-10-19T02:40:09.973072",
     "status": "completed"
    },
    "tags": []
   },
   "source": [
    "## Hypothesis"
   ]
  },
  {
   "cell_type": "code",
   "execution_count": 10,
   "id": "a3724c56",
   "metadata": {
    "execution": {
     "iopub.execute_input": "2022-10-19T02:40:09.992054Z",
     "iopub.status.busy": "2022-10-19T02:40:09.990861Z",
     "iopub.status.idle": "2022-10-19T02:40:09.996352Z",
     "shell.execute_reply": "2022-10-19T02:40:09.995068Z"
    },
    "papermill": {
     "duration": 0.015502,
     "end_time": "2022-10-19T02:40:09.999141",
     "exception": false,
     "start_time": "2022-10-19T02:40:09.983639",
     "status": "completed"
    },
    "tags": []
   },
   "outputs": [],
   "source": [
    "null_hypothesis = 'Perubahan Landing Page Tidak Berpengaruh Terhadap Converted'\n",
    "alternate_hypothesis = 'Perubahan Landing Page Berpengaruh Terhadap Converted'"
   ]
  },
  {
   "cell_type": "markdown",
   "id": "9c1b6551",
   "metadata": {
    "papermill": {
     "duration": 0.005457,
     "end_time": "2022-10-19T02:40:10.010559",
     "exception": false,
     "start_time": "2022-10-19T02:40:10.005102",
     "status": "completed"
    },
    "tags": []
   },
   "source": [
    "## Sampling"
   ]
  },
  {
   "cell_type": "code",
   "execution_count": 11,
   "id": "aad138bf",
   "metadata": {
    "execution": {
     "iopub.execute_input": "2022-10-19T02:40:10.023834Z",
     "iopub.status.busy": "2022-10-19T02:40:10.023408Z",
     "iopub.status.idle": "2022-10-19T02:40:10.039448Z",
     "shell.execute_reply": "2022-10-19T02:40:10.038142Z"
    },
    "papermill": {
     "duration": 0.025549,
     "end_time": "2022-10-19T02:40:10.041865",
     "exception": false,
     "start_time": "2022-10-19T02:40:10.016316",
     "status": "completed"
    },
    "tags": []
   },
   "outputs": [
    {
     "name": "stdout",
     "output_type": "stream",
     "text": [
      "4720\n"
     ]
    }
   ],
   "source": [
    "# comparing two proportions\n",
    "effect_size = sms.proportion_effectsize(0.13, 0.15)   \n",
    "# solve for any one parameter of the power of a two sample z-test\n",
    "required_n = sms.NormalIndPower().solve_power(effect_size, power=0.8,  alpha=0.05,ratio=1)                                                 \n",
    "required_n = ceil(required_n)                                                   \n",
    "\n",
    "print(required_n)"
   ]
  },
  {
   "cell_type": "code",
   "execution_count": 12,
   "id": "68e8e478",
   "metadata": {
    "execution": {
     "iopub.execute_input": "2022-10-19T02:40:10.055440Z",
     "iopub.status.busy": "2022-10-19T02:40:10.054988Z",
     "iopub.status.idle": "2022-10-19T02:40:10.148348Z",
     "shell.execute_reply": "2022-10-19T02:40:10.147160Z"
    },
    "papermill": {
     "duration": 0.103921,
     "end_time": "2022-10-19T02:40:10.151504",
     "exception": false,
     "start_time": "2022-10-19T02:40:10.047583",
     "status": "completed"
    },
    "tags": []
   },
   "outputs": [],
   "source": [
    "control_sample = df[df['group'] == 'control'].sample(n=required_n, random_state=22)\n",
    "treatment_sample = df[df['group'] == 'treatment'].sample(n=required_n, random_state=22)\n",
    "\n",
    "ab_test = pd.concat([control_sample, treatment_sample], axis=0)\n",
    "ab_test.reset_index(drop=True, inplace=True)"
   ]
  },
  {
   "cell_type": "markdown",
   "id": "32100309",
   "metadata": {
    "papermill": {
     "duration": 0.005465,
     "end_time": "2022-10-19T02:40:10.164469",
     "exception": false,
     "start_time": "2022-10-19T02:40:10.159004",
     "status": "completed"
    },
    "tags": []
   },
   "source": [
    "## Testing the Hypothesis"
   ]
  },
  {
   "cell_type": "code",
   "execution_count": 13,
   "id": "f9ac45da",
   "metadata": {
    "execution": {
     "iopub.execute_input": "2022-10-19T02:40:10.178262Z",
     "iopub.status.busy": "2022-10-19T02:40:10.177809Z",
     "iopub.status.idle": "2022-10-19T02:40:10.194996Z",
     "shell.execute_reply": "2022-10-19T02:40:10.193565Z"
    },
    "papermill": {
     "duration": 0.027439,
     "end_time": "2022-10-19T02:40:10.197727",
     "exception": false,
     "start_time": "2022-10-19T02:40:10.170288",
     "status": "completed"
    },
    "tags": []
   },
   "outputs": [
    {
     "name": "stdout",
     "output_type": "stream",
     "text": [
      "z statistic: -0.34\n",
      "p-value: 0.732\n",
      "ci 95% for control group: [0.114, 0.133]\n",
      "ci 95% for treatment group: [0.116, 0.135]\n"
     ]
    }
   ],
   "source": [
    "from statsmodels.stats.proportion import proportions_ztest, proportion_confint\n",
    "control_results = ab_test[ab_test['group'] == 'control']['converted']\n",
    "treatment_results = ab_test[ab_test['group'] == 'treatment']['converted']\n",
    "n_con = control_results.count()\n",
    "n_treat = treatment_results.count()\n",
    "successes = [control_results.sum(), treatment_results.sum()]\n",
    "nobs = [n_con, n_treat]\n",
    "\n",
    "z_stat, pval = proportions_ztest(successes, nobs=nobs)\n",
    "(lower_con, lower_treat), (upper_con, upper_treat) = proportion_confint(successes, nobs=nobs, alpha=0.05)\n",
    "\n",
    "print(f'z statistic: {z_stat:.2f}')\n",
    "print(f'p-value: {pval:.3f}')\n",
    "print(f'ci 95% for control group: [{lower_con:.3f}, {upper_con:.3f}]')\n",
    "print(f'ci 95% for treatment group: [{lower_treat:.3f}, {upper_treat:.3f}]')\n",
    "\n",
    "p_value = f'p-value: {pval:.3f}'"
   ]
  },
  {
   "cell_type": "code",
   "execution_count": 14,
   "id": "052c3b0f",
   "metadata": {
    "execution": {
     "iopub.execute_input": "2022-10-19T02:40:10.210938Z",
     "iopub.status.busy": "2022-10-19T02:40:10.210497Z",
     "iopub.status.idle": "2022-10-19T02:40:10.216550Z",
     "shell.execute_reply": "2022-10-19T02:40:10.215656Z"
    },
    "papermill": {
     "duration": 0.015883,
     "end_time": "2022-10-19T02:40:10.219340",
     "exception": false,
     "start_time": "2022-10-19T02:40:10.203457",
     "status": "completed"
    },
    "tags": []
   },
   "outputs": [
    {
     "name": "stdout",
     "output_type": "stream",
     "text": [
      "the alternate hypothesis should be rejected and accept null hypothesis\n",
      "Perubahan Landing Page Tidak Berpengaruh Terhadap Converted\n"
     ]
    }
   ],
   "source": [
    "if p_value < '0.05':\n",
    "    print('the null hypothesis should be rejected and accept alternate hypothesis')\n",
    "    print(alternate_hypothesis)\n",
    "else:\n",
    "    print('the alternate hypothesis should be rejected and accept null hypothesis')\n",
    "    print(null_hypothesis)"
   ]
  }
 ],
 "metadata": {
  "kernelspec": {
   "display_name": "Python 3",
   "language": "python",
   "name": "python3"
  },
  "language_info": {
   "codemirror_mode": {
    "name": "ipython",
    "version": 3
   },
   "file_extension": ".py",
   "mimetype": "text/x-python",
   "name": "python",
   "nbconvert_exporter": "python",
   "pygments_lexer": "ipython3",
   "version": "3.7.12"
  },
  "papermill": {
   "default_parameters": {},
   "duration": 13.177887,
   "end_time": "2022-10-19T02:40:11.047235",
   "environment_variables": {},
   "exception": null,
   "input_path": "__notebook__.ipynb",
   "output_path": "__notebook__.ipynb",
   "parameters": {},
   "start_time": "2022-10-19T02:39:57.869348",
   "version": "2.3.4"
  }
 },
 "nbformat": 4,
 "nbformat_minor": 5
}
